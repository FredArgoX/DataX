{
  "cells": [
    {
      "cell_type": "markdown",
      "metadata": {},
      "source": [
        "<h1>Example Project</h1>\n",
        "\n",
        "---\n",
        "<h3><b>Algorithm:</b> Diffusion Models</h3>\n",
        "<h3><b>ML Type:</b> Deep Learning</h3>\n",
        "<h3><b>Purpose:</b> Generation / Reconstruction</h3>\n",
        "\n",
        "---\n",
        "<p><b>By:</b> Fredy Arce Gonzalez</p>\n",
        "<a href=\"https://github.com/FredArgoX\">\n",
        "<img src=\"https://cdn1.iconfinder.com/data/icons/logotypes/32/github-256.png\" width=30 alt=\"GitHub\">\n",
        "</a>\n",
        "<a href=\"https://www.linkedin.com/in/fredy-arce-data-science/\">\n",
        "<img src=\"https://cdn2.iconfinder.com/data/icons/social-media-2285/512/1_Linkedin_unofficial_colored_svg-256.png\" width=30>\n",
        "</a>\n",
        "<a href=\"https://x.com/FredyArgoX\">\n",
        "<img src=\"https://cdn4.iconfinder.com/data/icons/social-media-black-white-2/1227/X-256.png\" width=30>\n",
        "</a>\n",
        "<a href=\"https://fredargox.github.io/DataX/\">\n",
        "<img src=\"https://fredargox.github.io/DataX/assets/logo_FAX.png\" width=34>\n",
        "</a>\n",
        "\n",
        "---\n",
        "<p><b>Project Overview:</b> This project aims to demonstrate the implementation of Diffusion Models in Python...</p>\n"
      ]
    }
  ],
  "metadata": {
    "kernelspec": {
      "display_name": "Python 3",
      "language": "python",
      "name": "python3"
    }
  },
  "nbformat": 4,
  "nbformat_minor": 4
}